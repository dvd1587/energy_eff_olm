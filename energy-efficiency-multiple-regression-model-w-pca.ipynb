{
 "cells": [
  {
   "cell_type": "markdown",
   "id": "47447bb3",
   "metadata": {
    "papermill": {
     "duration": 0.006496,
     "end_time": "2024-06-20T06:35:18.793298",
     "exception": false,
     "start_time": "2024-06-20T06:35:18.786802",
     "status": "completed"
    },
    "tags": []
   },
   "source": [
    "# Introduction:\n",
    "Energy efficiency has become an important feature in real estate and buildings not only from a cost point of view but also from a climate change perspective. Through an energy efficiency dataset, we shall create a simple regression model to predict energy consumption esp. heating and cooling loads of a building."
   ]
  },
  {
   "cell_type": "markdown",
   "id": "a555c7c9",
   "metadata": {
    "papermill": {
     "duration": 0.00708,
     "end_time": "2024-06-20T06:35:18.806587",
     "exception": false,
     "start_time": "2024-06-20T06:35:18.799507",
     "status": "completed"
    },
    "tags": []
   },
   "source": [
    "# Data Preparation:\n",
    "We are going to use the Energy Efficiency Dataset (https://www.kaggle.com/datasets/elikplim/eergy-efficiency-dataset/data) for this model and then check for null values and remove them."
   ]
  },
  {
   "cell_type": "code",
   "execution_count": 1,
   "id": "8b56222c",
   "metadata": {
    "_cell_guid": "b1076dfc-b9ad-4769-8c92-a6c4dae69d19",
    "_uuid": "8f2839f25d086af736a60e9eeb907d3b93b6e0e5",
    "execution": {
     "iopub.execute_input": "2024-06-20T06:35:18.820647Z",
     "iopub.status.busy": "2024-06-20T06:35:18.820260Z",
     "iopub.status.idle": "2024-06-20T06:35:19.915053Z",
     "shell.execute_reply": "2024-06-20T06:35:19.913545Z"
    },
    "papermill": {
     "duration": 1.105255,
     "end_time": "2024-06-20T06:35:19.918039",
     "exception": false,
     "start_time": "2024-06-20T06:35:18.812784",
     "status": "completed"
    },
    "tags": []
   },
   "outputs": [
    {
     "name": "stdout",
     "output_type": "stream",
     "text": [
      "/kaggle/input/eergy-efficiency-dataset/ENB2012_data.csv\n"
     ]
    }
   ],
   "source": [
    "# This Python 3 environment comes with many helpful analytics libraries installed\n",
    "# It is defined by the kaggle/python Docker image: https://github.com/kaggle/docker-python\n",
    "# For example, here's several helpful packages to load\n",
    "\n",
    "import numpy as np # linear algebra\n",
    "import pandas as pd # data processing, CSV file I/O (e.g. pd.read_csv)\n",
    "import matplotlib.pyplot as plt\n",
    "import warnings\n",
    "# Input data files are available in the read-only \"../input/\" directory\n",
    "# For example, running this (by clicking run or pressing Shift+Enter) will list all files under the input directory\n",
    "\n",
    "import os\n",
    "for dirname, _, filenames in os.walk('/kaggle/input'):\n",
    "    for filename in filenames:\n",
    "        print(os.path.join(dirname, filename))\n",
    "\n",
    "# You can write up to 20GB to the current directory (/kaggle/working/) that gets preserved as output when you create a version using \"Save & Run All\" \n",
    "# You can also write temporary files to /kaggle/temp/, but they won't be saved outside of the current session"
   ]
  },
  {
   "cell_type": "code",
   "execution_count": 2,
   "id": "83e8bc91",
   "metadata": {
    "execution": {
     "iopub.execute_input": "2024-06-20T06:35:19.932561Z",
     "iopub.status.busy": "2024-06-20T06:35:19.932060Z",
     "iopub.status.idle": "2024-06-20T06:35:19.954951Z",
     "shell.execute_reply": "2024-06-20T06:35:19.953502Z"
    },
    "papermill": {
     "duration": 0.033449,
     "end_time": "2024-06-20T06:35:19.957960",
     "exception": false,
     "start_time": "2024-06-20T06:35:19.924511",
     "status": "completed"
    },
    "tags": []
   },
   "outputs": [],
   "source": [
    "# Assigning the data to a dataframe\n",
    "df = pd.read_csv(os.path.join(dirname, filename))"
   ]
  },
  {
   "cell_type": "code",
   "execution_count": 3,
   "id": "a87b92b0",
   "metadata": {
    "execution": {
     "iopub.execute_input": "2024-06-20T06:35:19.973103Z",
     "iopub.status.busy": "2024-06-20T06:35:19.972126Z",
     "iopub.status.idle": "2024-06-20T06:35:20.004635Z",
     "shell.execute_reply": "2024-06-20T06:35:20.003358Z"
    },
    "papermill": {
     "duration": 0.042714,
     "end_time": "2024-06-20T06:35:20.007249",
     "exception": false,
     "start_time": "2024-06-20T06:35:19.964535",
     "status": "completed"
    },
    "tags": []
   },
   "outputs": [
    {
     "data": {
      "text/html": [
       "<div>\n",
       "<style scoped>\n",
       "    .dataframe tbody tr th:only-of-type {\n",
       "        vertical-align: middle;\n",
       "    }\n",
       "\n",
       "    .dataframe tbody tr th {\n",
       "        vertical-align: top;\n",
       "    }\n",
       "\n",
       "    .dataframe thead th {\n",
       "        text-align: right;\n",
       "    }\n",
       "</style>\n",
       "<table border=\"1\" class=\"dataframe\">\n",
       "  <thead>\n",
       "    <tr style=\"text-align: right;\">\n",
       "      <th></th>\n",
       "      <th>X1</th>\n",
       "      <th>X2</th>\n",
       "      <th>X3</th>\n",
       "      <th>X4</th>\n",
       "      <th>X5</th>\n",
       "      <th>X6</th>\n",
       "      <th>X7</th>\n",
       "      <th>X8</th>\n",
       "      <th>Y1</th>\n",
       "      <th>Y2</th>\n",
       "    </tr>\n",
       "  </thead>\n",
       "  <tbody>\n",
       "    <tr>\n",
       "      <th>0</th>\n",
       "      <td>0.98</td>\n",
       "      <td>514.5</td>\n",
       "      <td>294.0</td>\n",
       "      <td>110.25</td>\n",
       "      <td>7.0</td>\n",
       "      <td>2</td>\n",
       "      <td>0.0</td>\n",
       "      <td>0</td>\n",
       "      <td>15.55</td>\n",
       "      <td>21.33</td>\n",
       "    </tr>\n",
       "    <tr>\n",
       "      <th>1</th>\n",
       "      <td>0.98</td>\n",
       "      <td>514.5</td>\n",
       "      <td>294.0</td>\n",
       "      <td>110.25</td>\n",
       "      <td>7.0</td>\n",
       "      <td>3</td>\n",
       "      <td>0.0</td>\n",
       "      <td>0</td>\n",
       "      <td>15.55</td>\n",
       "      <td>21.33</td>\n",
       "    </tr>\n",
       "    <tr>\n",
       "      <th>2</th>\n",
       "      <td>0.98</td>\n",
       "      <td>514.5</td>\n",
       "      <td>294.0</td>\n",
       "      <td>110.25</td>\n",
       "      <td>7.0</td>\n",
       "      <td>4</td>\n",
       "      <td>0.0</td>\n",
       "      <td>0</td>\n",
       "      <td>15.55</td>\n",
       "      <td>21.33</td>\n",
       "    </tr>\n",
       "    <tr>\n",
       "      <th>3</th>\n",
       "      <td>0.98</td>\n",
       "      <td>514.5</td>\n",
       "      <td>294.0</td>\n",
       "      <td>110.25</td>\n",
       "      <td>7.0</td>\n",
       "      <td>5</td>\n",
       "      <td>0.0</td>\n",
       "      <td>0</td>\n",
       "      <td>15.55</td>\n",
       "      <td>21.33</td>\n",
       "    </tr>\n",
       "    <tr>\n",
       "      <th>4</th>\n",
       "      <td>0.90</td>\n",
       "      <td>563.5</td>\n",
       "      <td>318.5</td>\n",
       "      <td>122.50</td>\n",
       "      <td>7.0</td>\n",
       "      <td>2</td>\n",
       "      <td>0.0</td>\n",
       "      <td>0</td>\n",
       "      <td>20.84</td>\n",
       "      <td>28.28</td>\n",
       "    </tr>\n",
       "  </tbody>\n",
       "</table>\n",
       "</div>"
      ],
      "text/plain": [
       "     X1     X2     X3      X4   X5  X6   X7  X8     Y1     Y2\n",
       "0  0.98  514.5  294.0  110.25  7.0   2  0.0   0  15.55  21.33\n",
       "1  0.98  514.5  294.0  110.25  7.0   3  0.0   0  15.55  21.33\n",
       "2  0.98  514.5  294.0  110.25  7.0   4  0.0   0  15.55  21.33\n",
       "3  0.98  514.5  294.0  110.25  7.0   5  0.0   0  15.55  21.33\n",
       "4  0.90  563.5  318.5  122.50  7.0   2  0.0   0  20.84  28.28"
      ]
     },
     "execution_count": 3,
     "metadata": {},
     "output_type": "execute_result"
    }
   ],
   "source": [
    "# Check the data (esp. column names)\n",
    "df.head()"
   ]
  },
  {
   "cell_type": "code",
   "execution_count": 4,
   "id": "a05f5e45",
   "metadata": {
    "execution": {
     "iopub.execute_input": "2024-06-20T06:35:20.022622Z",
     "iopub.status.busy": "2024-06-20T06:35:20.022231Z",
     "iopub.status.idle": "2024-06-20T06:35:20.033316Z",
     "shell.execute_reply": "2024-06-20T06:35:20.032099Z"
    },
    "papermill": {
     "duration": 0.021366,
     "end_time": "2024-06-20T06:35:20.035836",
     "exception": false,
     "start_time": "2024-06-20T06:35:20.014470",
     "status": "completed"
    },
    "tags": []
   },
   "outputs": [
    {
     "data": {
      "text/plain": [
       "X1    0\n",
       "X2    0\n",
       "X3    0\n",
       "X4    0\n",
       "X5    0\n",
       "X6    0\n",
       "X7    0\n",
       "X8    0\n",
       "Y1    0\n",
       "Y2    0\n",
       "dtype: int64"
      ]
     },
     "execution_count": 4,
     "metadata": {},
     "output_type": "execute_result"
    }
   ],
   "source": [
    "# Check for null values\n",
    "df.isnull().sum()"
   ]
  },
  {
   "cell_type": "code",
   "execution_count": 5,
   "id": "cc18a09e",
   "metadata": {
    "execution": {
     "iopub.execute_input": "2024-06-20T06:35:20.051687Z",
     "iopub.status.busy": "2024-06-20T06:35:20.050666Z",
     "iopub.status.idle": "2024-06-20T06:35:20.520684Z",
     "shell.execute_reply": "2024-06-20T06:35:20.519529Z"
    },
    "papermill": {
     "duration": 0.480653,
     "end_time": "2024-06-20T06:35:20.523329",
     "exception": false,
     "start_time": "2024-06-20T06:35:20.042676",
     "status": "completed"
    },
    "tags": []
   },
   "outputs": [
    {
     "data": {
      "text/plain": [
       "<Axes: >"
      ]
     },
     "execution_count": 5,
     "metadata": {},
     "output_type": "execute_result"
    },
    {
     "data": {
      "image/png": "[encoded data removed]",
      "text/plain": [
       "<Figure size 640x480 with 1 Axes>"
      ]
     },
     "metadata": {},
     "output_type": "display_data"
    }
   ],
   "source": [
    "# No nulls, next visualize the data\n",
    "df.boxplot()"
   ]
  },
  {
   "cell_type": "markdown",
   "id": "54d6a08e",
   "metadata": {
    "papermill": {
     "duration": 0.006901,
     "end_time": "2024-06-20T06:35:20.537573",
     "exception": false,
     "start_time": "2024-06-20T06:35:20.530672",
     "status": "completed"
    },
    "tags": []
   },
   "source": [
    "# Splitting and scaling the data:\n",
    "\n",
    "We'll first produce two dataframes - one for heating load and one for cooling load. We'd then split these dataframes into test and train and then scale them."
   ]
  },
  {
   "cell_type": "code",
   "execution_count": 6,
   "id": "c711dccf",
   "metadata": {
    "execution": {
     "iopub.execute_input": "2024-06-20T06:35:20.553785Z",
     "iopub.status.busy": "2024-06-20T06:35:20.553372Z",
     "iopub.status.idle": "2024-06-20T06:35:20.566554Z",
     "shell.execute_reply": "2024-06-20T06:35:20.565263Z"
    },
    "papermill": {
     "duration": 0.025135,
     "end_time": "2024-06-20T06:35:20.569896",
     "exception": false,
     "start_time": "2024-06-20T06:35:20.544761",
     "status": "completed"
    },
    "tags": []
   },
   "outputs": [],
   "source": [
    "# Make two dataframes for heat and cool load\n",
    "df_heat=df_cool=df\n",
    "df_heat=df_heat.drop(\"Y2\",axis=1)\n",
    "df_cool=df_cool.drop(\"Y1\",axis=1)"
   ]
  },
  {
   "cell_type": "code",
   "execution_count": 7,
   "id": "4918d963",
   "metadata": {
    "execution": {
     "iopub.execute_input": "2024-06-20T06:35:20.586323Z",
     "iopub.status.busy": "2024-06-20T06:35:20.585911Z",
     "iopub.status.idle": "2024-06-20T06:35:22.127179Z",
     "shell.execute_reply": "2024-06-20T06:35:22.126051Z"
    },
    "papermill": {
     "duration": 1.55278,
     "end_time": "2024-06-20T06:35:22.130069",
     "exception": false,
     "start_time": "2024-06-20T06:35:20.577289",
     "status": "completed"
    },
    "tags": []
   },
   "outputs": [],
   "source": [
    "#Work with the df_heat dataset first and split and scale it\n",
    "from sklearn.model_selection import train_test_split\n",
    "X=df_heat.drop(\"Y1\",axis=1)\n",
    "y=df_heat[\"Y1\"]\n",
    "X_train, X_test, y_train, y_test = train_test_split(X, y, test_size=0.25, random_state=42)\n",
    "\n",
    "from sklearn.preprocessing import StandardScaler\n",
    "scaler = StandardScaler().fit(X_train)\n",
    "X_train = scaler.transform(X_train)\n",
    "X_test = scaler.transform(X_test)"
   ]
  },
  {
   "cell_type": "markdown",
   "id": "62cf5144",
   "metadata": {
    "papermill": {
     "duration": 0.00698,
     "end_time": "2024-06-20T06:35:22.144832",
     "exception": false,
     "start_time": "2024-06-20T06:35:22.137852",
     "status": "completed"
    },
    "tags": []
   },
   "source": [
    "# Modeling\n",
    "\n",
    "Use the linear regression model to fit the train and test data"
   ]
  },
  {
   "cell_type": "code",
   "execution_count": 8,
   "id": "0b51a0ef",
   "metadata": {
    "execution": {
     "iopub.execute_input": "2024-06-20T06:35:22.160898Z",
     "iopub.status.busy": "2024-06-20T06:35:22.160467Z",
     "iopub.status.idle": "2024-06-20T06:35:22.309027Z",
     "shell.execute_reply": "2024-06-20T06:35:22.307902Z"
    },
    "papermill": {
     "duration": 0.159741,
     "end_time": "2024-06-20T06:35:22.311706",
     "exception": false,
     "start_time": "2024-06-20T06:35:22.151965",
     "status": "completed"
    },
    "tags": []
   },
   "outputs": [
    {
     "data": {
      "text/plain": [
       "0.9147511401367628"
      ]
     },
     "execution_count": 8,
     "metadata": {},
     "output_type": "execute_result"
    }
   ],
   "source": [
    "#Import Linear Regression model and fit the dfs\n",
    "from sklearn.linear_model import LinearRegression\n",
    "model = LinearRegression()\n",
    "model.fit(X_train,y_train)\n",
    "model.predict(X_test)\n",
    "model.score(X_test,y_test)"
   ]
  },
  {
   "cell_type": "code",
   "execution_count": 9,
   "id": "a3b83942",
   "metadata": {
    "execution": {
     "iopub.execute_input": "2024-06-20T06:35:22.328344Z",
     "iopub.status.busy": "2024-06-20T06:35:22.327910Z",
     "iopub.status.idle": "2024-06-20T06:35:22.352727Z",
     "shell.execute_reply": "2024-06-20T06:35:22.351524Z"
    },
    "papermill": {
     "duration": 0.036971,
     "end_time": "2024-06-20T06:35:22.356155",
     "exception": false,
     "start_time": "2024-06-20T06:35:22.319184",
     "status": "completed"
    },
    "tags": []
   },
   "outputs": [
    {
     "data": {
      "text/plain": [
       "0.8822122294949477"
      ]
     },
     "execution_count": 9,
     "metadata": {},
     "output_type": "execute_result"
    }
   ],
   "source": [
    "#Repeat the same process for splitting, scaling, modeling and fitting for df_cool\n",
    "X=df_cool.drop(\"Y2\",axis=1)\n",
    "y=df_cool[\"Y2\"]\n",
    "X_train, X_test, y_train, y_test = train_test_split(X, y, test_size=0.25, random_state=20)\n",
    "\n",
    "scaler = StandardScaler().fit(X_train)\n",
    "X_train = scaler.transform(X_train)\n",
    "X_test = scaler.transform(X_test)\n",
    "\n",
    "model = LinearRegression()\n",
    "model.fit(X_train,y_train)\n",
    "model.predict(X_test)\n",
    "model.score(X_test,y_test)"
   ]
  },
  {
   "cell_type": "markdown",
   "id": "91a956c4",
   "metadata": {
    "papermill": {
     "duration": 0.007508,
     "end_time": "2024-06-20T06:35:22.371430",
     "exception": false,
     "start_time": "2024-06-20T06:35:22.363922",
     "status": "completed"
    },
    "tags": []
   },
   "source": [
    "# PCA\n",
    "We can also do a Principal Component Analysis on the many attributes."
   ]
  },
  {
   "cell_type": "code",
   "execution_count": 10,
   "id": "9d0eb5e0",
   "metadata": {
    "execution": {
     "iopub.execute_input": "2024-06-20T06:35:22.389122Z",
     "iopub.status.busy": "2024-06-20T06:35:22.388659Z",
     "iopub.status.idle": "2024-06-20T06:35:22.436952Z",
     "shell.execute_reply": "2024-06-20T06:35:22.435783Z"
    },
    "papermill": {
     "duration": 0.060375,
     "end_time": "2024-06-20T06:35:22.439679",
     "exception": false,
     "start_time": "2024-06-20T06:35:22.379304",
     "status": "completed"
    },
    "tags": []
   },
   "outputs": [
    {
     "name": "stdout",
     "output_type": "stream",
     "text": [
      "Variance: [8.07032434e-01 1.92639516e-01 2.05504811e-04 1.06893310e-04\n",
      " 1.41960454e-05 1.44648296e-06 9.05142690e-09 7.13130367e-32]\n"
     ]
    }
   ],
   "source": [
    "from sklearn.decomposition import PCA\n",
    "df_pca=df\n",
    "df_pca=df_pca.drop(\"Y1\",axis=1)\n",
    "df_pca=df_pca.drop(\"Y2\",axis=1)\n",
    "pca = PCA()\n",
    "df_pca = pca.fit(df_pca).transform(df_pca)\n",
    "print(f'Variance: {pca.explained_variance_ratio_}')"
   ]
  },
  {
   "cell_type": "markdown",
   "id": "48bf4574",
   "metadata": {
    "papermill": {
     "duration": 0.008068,
     "end_time": "2024-06-20T06:35:22.455437",
     "exception": false,
     "start_time": "2024-06-20T06:35:22.447369",
     "status": "completed"
    },
    "tags": []
   },
   "source": [
    "X1 (Relative Compactness) and X2 (Surface Area) seem to have 99% covariance and are sufficient"
   ]
  },
  {
   "cell_type": "markdown",
   "id": "f266b8c6",
   "metadata": {
    "papermill": {
     "duration": 0.007613,
     "end_time": "2024-06-20T06:35:22.471257",
     "exception": false,
     "start_time": "2024-06-20T06:35:22.463644",
     "status": "completed"
    },
    "tags": []
   },
   "source": [
    "# Conclusion\n",
    "\n",
    "The linear regression model does well esp. in the case of heating load in trying to determine the energy efficiency of the model"
   ]
  },
  {
   "cell_type": "markdown",
   "id": "c2ffacb4",
   "metadata": {
    "papermill": {
     "duration": 0.007242,
     "end_time": "2024-06-20T06:35:22.486301",
     "exception": false,
     "start_time": "2024-06-20T06:35:22.479059",
     "status": "completed"
    },
    "tags": []
   },
   "source": []
  }
 ],
 "metadata": {
  "kaggle": {
   "accelerator": "none",
   "dataSources": [
    {
     "datasetId": 2319,
     "sourceId": 3917,
     "sourceType": "datasetVersion"
    }
   ],
   "dockerImageVersionId": 30715,
   "isGpuEnabled": false,
   "isInternetEnabled": true,
   "language": "python",
   "sourceType": "notebook"
  },
  "kernelspec": {
   "display_name": "Python 3",
   "language": "python",
   "name": "python3"
  },
  "language_info": {
   "codemirror_mode": {
    "name": "ipython",
    "version": 3
   },
   "file_extension": ".py",
   "mimetype": "text/x-python",
   "name": "python",
   "nbconvert_exporter": "python",
   "pygments_lexer": "ipython3",
   "version": "3.10.13"
  },
  "papermill": {
   "default_parameters": {},
   "duration": 7.992151,
   "end_time": "2024-06-20T06:35:23.217027",
   "environment_variables": {},
   "exception": null,
   "input_path": "__notebook__.ipynb",
   "output_path": "__notebook__.ipynb",
   "parameters": {},
   "start_time": "2024-06-20T06:35:15.224876",
   "version": "2.5.0"
  }
 },
 "nbformat": 4,
 "nbformat_minor": 5
}
